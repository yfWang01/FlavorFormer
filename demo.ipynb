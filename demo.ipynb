{
 "cells": [
  {
   "cell_type": "code",
   "execution_count": 1,
   "metadata": {
    "collapsed": true
   },
   "outputs": [],
   "source": [
    "from FlavorFormer import *\n",
    "from augment import *\n",
    "from readBruker import *\n",
    "import pandas as pd"
   ]
  },
  {
   "cell_type": "markdown",
   "metadata": {
    "collapsed": false
   },
   "source": [
    "# Read NMR spectra"
   ]
  },
  {
   "cell_type": "code",
   "execution_count": 2,
   "metadata": {
    "collapsed": false
   },
   "outputs": [
    {
     "name": "stderr",
     "output_type": "stream",
     "text": [
      "Read Bruker H-NMR files: 100%|██████████| 24/24 [01:00<00:00,  2.54s/it]\n",
      "Read Bruker H-NMR files: 100%|██████████| 21/21 [00:10<00:00,  2.09it/s]\n"
     ]
    }
   ],
   "source": [
    "flavor_standards = read_bruker_hs('data/flavor_standards', False, True, False)\n",
    "known_flavor_mixtures = read_bruker_hs('data/known_flavor_mixtures', False, True, False)"
   ]
  },
  {
   "cell_type": "markdown",
   "metadata": {
    "collapsed": false
   },
   "source": [
    "# Data augment"
   ]
  },
  {
   "cell_type": "code",
   "execution_count": null,
   "metadata": {
    "collapsed": false
   },
   "outputs": [
    {
     "name": "stderr",
     "output_type": "stream",
     "text": [
      "Data augmentation: 100%|██████████| 500/500 [00:02<00:00, 240.13it/s]\n"
     ]
    },
    {
     "name": "stdout",
     "output_type": "stream",
     "text": [
      "Train dataset saved to data/augmented_data/50000_samples\\train_dataset.pkl.\n",
      "Val dataset saved to data/augmented_data/50000_samples\\val_dataset.pkl.\n",
      "Test dataset saved to data/augmented_data/50000_samples\\test_dataset.pkl.\n"
     ]
    }
   ],
   "source": [
    "output_dir = 'data/augmented_data/50000_samples'\n",
    "augment_and_split_data(\n",
    "        flavor_standards,\n",
    "        output_dir,\n",
    "        augment_samples=50000,\n",
    "        max_pc=7,\n",
    "        noise_level=0.001\n",
    "    )"
   ]
  },
  {
   "cell_type": "markdown",
   "metadata": {},
   "source": [
    "# Load data"
   ]
  },
  {
   "cell_type": "code",
   "execution_count": 4,
   "metadata": {},
   "outputs": [],
   "source": [
    "BATCH_SIZE = 256\n",
    "\n",
    "train_data_pattern = 'data/augmented_data/50000_samples/train_dataset.pkl'\n",
    "valid_data_pattern = 'data/augmented_data/50000_samples/val_dataset.pkl'\n",
    "\n",
    "train_loader = get_data_loader(NMRDataset(train_data_pattern), batch_size=BATCH_SIZE, shuffle=True)\n",
    "val_loader = get_data_loader(NMRDataset(valid_data_pattern), batch_size=BATCH_SIZE, shuffle=True)"
   ]
  },
  {
   "cell_type": "markdown",
   "metadata": {
    "collapsed": false
   },
   "source": [
    "# Train model"
   ]
  },
  {
   "cell_type": "code",
   "execution_count": null,
   "metadata": {
    "collapsed": false
   },
   "outputs": [],
   "source": [
    "train_loader = get_data_loader(NMRDataset(train_data_pattern), batch_size=BATCH_SIZE, shuffle=True)\n",
    "val_loader = get_data_loader(NMRDataset(valid_data_pattern), batch_size=BATCH_SIZE, shuffle=True)\n",
    "\n",
    "set_random_seed(42)\n",
    "# define CNN \n",
    "cnn_params = { \n",
    "    \"input_dim\": 39042, \n",
    "    \"output_dim\": 128,\n",
    "    \"channels\": [64, 64, 64], \n",
    "    \"kernel_size\": [5, 5, 5],    \n",
    "    \"stride\": [3, 3, 3],         \n",
    "    \"pool_size\": [2, 2, 2],      \n",
    "    \"dropout\": 0.1\n",
    "}\n",
    "\n",
    "cnn_model = CNNFeatureExtractor(**cnn_params)\n",
    "\n",
    "# define Transformer \n",
    "transformer_params = {\n",
    "    \"input_dim\": cnn_params[\"output_dim\"],\n",
    "    \"hidden_dim\":64,\n",
    "    \"num_heads\": 4,\n",
    "    \"num_layers\": 4,\n",
    "    \"dropout\": 0.1,\n",
    "}\n",
    "transformer_model = CrossEncoder(**transformer_params)\n",
    "transformer_params['input_shape'] = (BATCH_SIZE, cnn_output_shape[2], cnn_output_shape[1])\n",
    "learning_rate = 5e-5\n",
    "weight_decay = 1e-6\n",
    "num_epochs = 100\n",
    "positive_weight = 3.0\n",
    "save_path = f\"model/epoch_{num_epochs}_lr_{learning_rate}_wd_{weight_decay}\"\n",
    "device = torch.device(\"cuda\" if torch.cuda.is_available() else \"cpu\")\n",
    "trainer = NMRTrainer(cnn_model, transformer_model, device, learning_rate, weight_decay, tb_logger, positive_weight = positive_weight)\n",
    "\n",
    "trainer.train(train_loader, val_loader, num_epochs, save_path)\n",
    "\n",
    "# save model\n",
    "trainer.save_model(\n",
    "cnn_model=cnn_model,\n",
    "transformer_model=transformer_model,\n",
    "cnn_params=cnn_params,\n",
    "transformer_params=transformer_params,\n",
    "dataset_name=train_data_pattern,\n",
    "save_path=save_path,\n",
    "batch_size=BATCH_SIZE,\n",
    "learning_rate=learning_rate,\n",
    "weight_decay=weight_decay,\n",
    "positive_weight = positive_weight,\n",
    "num_epochs=num_epochs,\n",
    "cnn_output_shape=cnn_output_shape)\n"
   ]
  },
  {
   "cell_type": "markdown",
   "metadata": {
    "collapsed": false
   },
   "source": [
    "# Load the model"
   ]
  },
  {
   "cell_type": "code",
   "execution_count": null,
   "metadata": {},
   "outputs": [
    {
     "name": "stdout",
     "output_type": "stream",
     "text": [
      "Load the model successfully\n"
     ]
    }
   ],
   "source": [
    "# define CNN \n",
    "cnn_params = { \n",
    "    \"input_dim\": 39042, \n",
    "    \"output_dim\": 128,\n",
    "    \"channels\": [64, 64, 64], \n",
    "    \"kernel_size\": [5, 5, 5],    \n",
    "    \"stride\": [3, 3, 3],         \n",
    "    \"pool_size\": [2, 2, 2],      \n",
    "    \"dropout\": 0.1\n",
    "}\n",
    "\n",
    "cnn_model = CNNFeatureExtractor(**cnn_params)\n",
    "\n",
    "# define Transformer \n",
    "transformer_params = {\n",
    "    \"input_dim\": cnn_params[\"output_dim\"],\n",
    "    \"hidden_dim\":64,\n",
    "    \"num_heads\": 4,\n",
    "    \"num_layers\": 4,\n",
    "    \"dropout\": 0.1\n",
    "}\n",
    "transformer_model = CrossEncoder(**encoder_params)\n",
    "save_path = \"model\"\n",
    "\n",
    "model_paths = {\n",
    "    \"cnn\": f\"{save_path}/cnn_params.pth\",\n",
    "    \"transformer\": f\"{save_path}/encoder_params.pth\"\n",
    "}\n",
    "cnn_model.load_state_dict(torch.load(model_paths[\"cnn\"]))\n",
    "transformer_model.load_state_dict(torch.load(model_paths[\"transformer\"]))\n",
    "print(\"Load the model successfully\")"
   ]
  },
  {
   "cell_type": "markdown",
   "metadata": {},
   "source": [
    "# Define functions"
   ]
  },
  {
   "cell_type": "code",
   "execution_count": 17,
   "metadata": {},
   "outputs": [],
   "source": [
    "from sklearn.metrics import confusion_matrix\n",
    "from config_ import known_dict \n",
    "def judge_confusion_matrix(df, name_en, probability, true_comp):\n",
    "    if df[probability] >= 0.5:\n",
    "        if df[name_en] in true_comp:\n",
    "            return 'TP'\n",
    "        else:\n",
    "            return 'FP'\n",
    "    else:\n",
    "        if df[name_en] in true_comp:\n",
    "            return 'FN'\n",
    "        else:\n",
    "            return 'TN'\n",
    "    \n",
    "def predict_test(cnn_model, transformer_model, test_loader, device):\n",
    "\n",
    "    y_true, y_pred = [], []\n",
    "    with torch.no_grad():\n",
    "        for standard, mixture, labels in tqdm(test_loader, desc=\"Testing\"):\n",
    "            standard, mixture, labels = (standard.to(device), mixture.to(device), labels.to(device))\n",
    "            \n",
    "            standard_features = cnn_model(standard).permute(0, 2, 1)\n",
    "            mixture_features = cnn_model(mixture).permute(0, 2, 1)\n",
    "\n",
    "            outputs = transformer_model(standard_features, mixture_features)\n",
    "            probabilities = torch.sigmoid(outputs)  \n",
    "            predictions = (probabilities.squeeze() > 0.5).float()\n",
    "\n",
    "            y_true.extend(labels.cpu().numpy())\n",
    "            y_pred.extend(predictions.cpu().numpy())\n",
    "\n",
    "    cnf_matrix = confusion_matrix(y_true, y_pred)\n",
    "    print(\"Test set confusion matrix：\\n\", cnf_matrix)\n",
    "    return cnf_matrix\n",
    "\n",
    "def predict_known(cnn_model, transformer_model, known_spectra, stds, device):\n",
    "\n",
    "    cnn_model.eval()\n",
    "    transformer_model.eval()\n",
    "\n",
    "    out_results = pd.DataFrame()\n",
    "    confusion_counts = pd.DataFrame(columns=['Name', 'TN', 'TP', 'FN', 'FP'])\n",
    "    stds_name_order = [std['name'] for std in stds]  \n",
    "    all_results = []\n",
    "    confusion_stats = []\n",
    "    for t in tqdm(range(len(known_spectra)), desc=\"Predicting Known Spectra\"):\n",
    "        query = known_spectra[t]\n",
    "        sample_name = query['name']\n",
    "        n = len(stds)\n",
    "\n",
    "        R = np.array([stds[i]['fid'] for i in range(n)], dtype=np.float32)\n",
    "        Q = np.array([query['fid']] * n, dtype=np.float32)\n",
    "\n",
    "        with torch.no_grad():\n",
    "            r_features = cnn_model(torch.tensor(R, device=device)).permute(0, 2, 1)\n",
    "            q_features = cnn_model(torch.tensor(Q, device=device)).permute(0, 2, 1)\n",
    "            yp = torch.sigmoid(transformer_model(r_features, q_features)).cpu().numpy()\n",
    "\n",
    "        result_df = pd.DataFrame({\n",
    "            'Mixture': sample_name, \n",
    "            'Compound': stds_name_order,\n",
    "            'Probability': yp[:, 0]\n",
    "        })\n",
    "\n",
    "        result_df['Confusion'] = result_df.apply(\n",
    "            judge_confusion_matrix, axis=1, args=('Compound', 'Probability', known_dict[sample_name])\n",
    "        )\n",
    "\n",
    "        result_df = result_df.sort_values(by='Probability', ascending=False).reset_index(drop=True)\n",
    "        \n",
    "        result_df['Rank'] = range(1, len(result_df)+1)\n",
    "\n",
    "        all_results.append(result_df)\n",
    "        \n",
    "        counts = result_df['Confusion'].value_counts().to_dict()\n",
    "        confusion_stats.append({\n",
    "            'Name': sample_name,\n",
    "            'TP': counts.get('TP',0),\n",
    "            'FP': counts.get('FP',0),\n",
    "            'FN': counts.get('FN',0),\n",
    "            'TN': counts.get('TN',0)\n",
    "        })\n",
    "\n",
    "        confusion_counts = pd.DataFrame(confusion_stats)\n",
    "        out_results = pd.concat(all_results, ignore_index=True).sort_values(['Mixture','Rank'])\n",
    "\n",
    "    return confusion_counts, out_results"
   ]
  },
  {
   "cell_type": "markdown",
   "metadata": {
    "collapsed": false
   },
   "source": [
    "# Predict results"
   ]
  },
  {
   "cell_type": "code",
   "execution_count": null,
   "metadata": {
    "collapsed": false
   },
   "outputs": [
    {
     "name": "stderr",
     "output_type": "stream",
     "text": [
      "Testing: 100%|██████████| 40/40 [00:06<00:00,  6.54it/s]\n"
     ]
    },
    {
     "name": "stdout",
     "output_type": "stream",
     "text": [
      "Test set confusion matrix：\n",
      " [[4923   56]\n",
      " [  39 4982]]\n"
     ]
    },
    {
     "name": "stderr",
     "output_type": "stream",
     "text": [
      "Predicting Known Spectra: 100%|██████████| 21/21 [00:00<00:00, 54.14it/s]"
     ]
    },
    {
     "name": "stdout",
     "output_type": "stream",
     "text": [
      "Confusion matrix for known mixtures:\n",
      "   Name  TP  FP  FN  TN\n",
      "0    A1   2   0   0  22\n",
      "1    A2   2   1   0  21\n",
      "2    A3   2   0   0  22\n",
      "3    B1   3   0   0  21\n",
      "4    B2   3   0   0  21\n",
      "5    B3   3   0   0  21\n",
      "6    B4   3   0   0  21\n",
      "7    B5   3   3   0  18\n",
      "8    B6   3   1   0  20\n",
      "9    B7   3   4   0  17\n",
      "10   C1   4   0   0  20\n",
      "11   C2   4   0   0  20\n",
      "12   C3   4   1   0  19\n",
      "13   C4   4   0   0  20\n",
      "14   C5   4   2   0  18\n",
      "15   C6   3   2   1  18\n",
      "16   D1   5   2   0  17\n",
      "17   D2   3   1   2  18\n",
      "18   D3   4   1   1  18\n",
      "19   D4   4   0   1  19\n",
      "20   D5   5   0   0  19\n",
      "Detailed results for known mixtures:\n",
      "    Mixture            Compound  Probability Confusion  Rank\n",
      "0        A1     Linalyl acetate     0.999927        TP     1\n",
      "1        A1            β-Ionone     0.998698        TP     2\n",
      "2        A1   Isopentyl acetate     0.077915        TN     3\n",
      "3        A1           Nerolidol     0.000803        TN     4\n",
      "4        A1         1,8-Cineole     0.000383        TN     5\n",
      "..      ...                 ...          ...       ...   ...\n",
      "499      D5  γ-Nonanoic lactone     0.000029        TN    20\n",
      "500      D5    5-Methylfurfural     0.000028        TN    21\n",
      "501      D5       γ-Decalactone     0.000020        TN    22\n",
      "502      D5        Leaf alcohol     0.000006        TN    23\n",
      "503      D5      Benzyl acetate     0.000003        TN    24\n",
      "\n",
      "[504 rows x 5 columns]\n"
     ]
    },
    {
     "name": "stderr",
     "output_type": "stream",
     "text": [
      "\n"
     ]
    }
   ],
   "source": [
    "test_data_path = 'data/augmented_data/50000_samples/test_dataset.pkl'\n",
    "batch_size=256\n",
    "test_loader = get_data_loader(NMRDataset(test_data_path), batch_size=batch_size, shuffle=False)\n",
    "device = torch.device(\"cuda\" if torch.cuda.is_available() else \"cpu\")\n",
    "cnn_model.to(device)\n",
    "transformer_model.to(device)\n",
    "# test set\n",
    "test_cnf_matrix = predict_test(cnn_model, transformer_model, test_loader, device)\n",
    "\n",
    "# known mixtures\n",
    "confusion_stats, detailed_results = predict_known(cnn_model, transformer_model, \n",
    "                                                known_flavor_mixtures, flavor_standards , device)\n",
    "print(\"Confusion matrix for known mixtures:\")\n",
    "print(confusion_stats)\n",
    "print(\"Detailed results for known mixtures:\")\n",
    "print(detailed_results)"
   ]
  },
  {
   "cell_type": "code",
   "execution_count": null,
   "metadata": {},
   "outputs": [],
   "source": []
  }
 ],
 "metadata": {
  "kernelspec": {
   "display_name": "FlavorFormer",
   "language": "python",
   "name": "python3"
  },
  "language_info": {
   "codemirror_mode": {
    "name": "ipython",
    "version": 3
   },
   "file_extension": ".py",
   "mimetype": "text/x-python",
   "name": "python",
   "nbconvert_exporter": "python",
   "pygments_lexer": "ipython3",
   "version": "3.13.2"
  }
 },
 "nbformat": 4,
 "nbformat_minor": 0
}
